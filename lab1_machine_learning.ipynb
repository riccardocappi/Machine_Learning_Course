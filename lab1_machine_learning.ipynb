{
  "cells": [
    {
      "cell_type": "markdown",
      "metadata": {
        "id": "view-in-github",
        "colab_type": "text"
      },
      "source": [
        "<a href=\"https://colab.research.google.com/github/riccardocappi/Machine_Learning_Course/blob/main/lab1_machine_learning.ipynb\" target=\"_parent\"><img src=\"https://colab.research.google.com/assets/colab-badge.svg\" alt=\"Open In Colab\"/></a>"
      ]
    },
    {
      "cell_type": "markdown",
      "metadata": {
        "id": "BYH7l0wAKdeD"
      },
      "source": [
        "# Lab 01 - Machine Learning 2022/23\n"
      ]
    },
    {
      "cell_type": "markdown",
      "metadata": {
        "id": "6z_EDUh6PziZ"
      },
      "source": [
        "## Why Python\n",
        "* Several modules for the analysis and the visualization of data;\n",
        "* Easy to learn;\n",
        "* Efficient;\n",
        "* Universal."
      ]
    },
    {
      "cell_type": "markdown",
      "metadata": {
        "id": "E8Cz598jNq1e"
      },
      "source": [
        "## The Python's scientific ecosystem \n",
        "* **Numpy**: numeric computation;\n",
        "* **Scipy**: high level numeric functions, sparse structures;\n",
        "* **Matplotlib**: 2D (and ~3D) visualization;\n",
        "* **Scikit-learn**: machine learning."
      ]
    },
    {
      "cell_type": "markdown",
      "metadata": {
        "id": "PZaHIjQNRWk8"
      },
      "source": [
        "# Numpy"
      ]
    },
    {
      "cell_type": "markdown",
      "metadata": {
        "id": "XU7SmHQfOYMe"
      },
      "source": [
        "### Importing modules"
      ]
    },
    {
      "cell_type": "code",
      "execution_count": 1,
      "metadata": {
        "cellView": "both",
        "id": "OcTvrdCXo5HC",
        "vscode": {
          "languageId": "python"
        }
      },
      "outputs": [],
      "source": [
        "import numpy as np # \"as\" is useful to give a handy alias to the module in the code"
      ]
    },
    {
      "cell_type": "markdown",
      "metadata": {
        "id": "FPniYrR8S0CS"
      },
      "source": [
        "### Creating arrays"
      ]
    },
    {
      "cell_type": "markdown",
      "metadata": {
        "id": "OuIDhy9IV9SP"
      },
      "source": [
        "One-dimensional arrays"
      ]
    },
    {
      "cell_type": "code",
      "execution_count": 2,
      "metadata": {
        "cellView": "both",
        "id": "KI32_qnZpJd_",
        "vscode": {
          "languageId": "python"
        }
      },
      "outputs": [],
      "source": [
        "a1d = np.array(range(10)) #from a range"
      ]
    },
    {
      "cell_type": "code",
      "execution_count": null,
      "metadata": {
        "id": "4Nqyx-o6SwuU",
        "vscode": {
          "languageId": "python"
        }
      },
      "outputs": [],
      "source": [
        "a1d = np.array([0,1,2,3,4,5,6,7,8,9]) #from a sequence of values"
      ]
    },
    {
      "cell_type": "code",
      "execution_count": null,
      "metadata": {
        "id": "I4mGNFuDVjgi",
        "vscode": {
          "languageId": "python"
        }
      },
      "outputs": [],
      "source": [
        "def print_info(x):\n",
        "    print(\"Type: %s\" %x.dtype)\n",
        "    print(\"# dimensions and shape: %d, %s\" %(x.ndim, x.shape))\n",
        "    print(\"# of rows: %d\\n\" %len(x))"
      ]
    },
    {
      "cell_type": "code",
      "execution_count": null,
      "metadata": {
        "colab": {
          "base_uri": "https://localhost:8080/"
        },
        "id": "grMgfS8BVotK",
        "outputId": "b1aefa79-6f76-47e9-f1b3-9de7f29b67bb",
        "vscode": {
          "languageId": "python"
        }
      },
      "outputs": [
        {
          "name": "stdout",
          "output_type": "stream",
          "text": [
            "Type: int64\n",
            "# dimensions and shape: 1, (10,)\n",
            "# of rows: 10\n",
            "\n"
          ]
        }
      ],
      "source": [
        "print_info(a1d)"
      ]
    },
    {
      "cell_type": "markdown",
      "metadata": {
        "id": "9o6fwfodV_td"
      },
      "source": [
        "Two-dimensional arrays (matrices)"
      ]
    },
    {
      "cell_type": "code",
      "execution_count": null,
      "metadata": {
        "id": "wL4h1iYLVwnc",
        "vscode": {
          "languageId": "python"
        }
      },
      "outputs": [],
      "source": [
        "mat = np.array([[1,2,3], [4,5,6]], dtype=float)"
      ]
    },
    {
      "cell_type": "code",
      "execution_count": null,
      "metadata": {
        "colab": {
          "base_uri": "https://localhost:8080/"
        },
        "id": "gttbLOiWWDjw",
        "outputId": "2e05317a-e982-4c17-f81a-cefc30969f1c",
        "vscode": {
          "languageId": "python"
        }
      },
      "outputs": [
        {
          "data": {
            "text/plain": [
              "array([[1., 2., 3.],\n",
              "       [4., 5., 6.]])"
            ]
          },
          "execution_count": 47,
          "metadata": {},
          "output_type": "execute_result"
        }
      ],
      "source": [
        "mat"
      ]
    },
    {
      "cell_type": "code",
      "execution_count": null,
      "metadata": {
        "colab": {
          "base_uri": "https://localhost:8080/"
        },
        "id": "4wdJZtn9WEGS",
        "outputId": "749c31b1-6e82-4ed3-ddfd-76ac1655a1d4",
        "vscode": {
          "languageId": "python"
        }
      },
      "outputs": [
        {
          "name": "stdout",
          "output_type": "stream",
          "text": [
            "Type: float64\n",
            "# dimensions and shape: 2, (2, 3)\n",
            "# of rows: 2\n",
            "\n"
          ]
        }
      ],
      "source": [
        "print_info(mat)"
      ]
    },
    {
      "cell_type": "code",
      "execution_count": null,
      "metadata": {
        "colab": {
          "base_uri": "https://localhost:8080/"
        },
        "id": "t-6Tt-DQWFVW",
        "outputId": "5cc4e8a3-ea17-4421-9cde-f66228a4dc7c",
        "vscode": {
          "languageId": "python"
        }
      },
      "outputs": [
        {
          "data": {
            "text/plain": [
              "array([[0., 0., 0., 0.],\n",
              "       [0., 0., 0., 0.],\n",
              "       [0., 0., 0., 0.]])"
            ]
          },
          "execution_count": 49,
          "metadata": {},
          "output_type": "execute_result"
        }
      ],
      "source": [
        "np.zeros((3,4))"
      ]
    },
    {
      "cell_type": "code",
      "execution_count": null,
      "metadata": {
        "colab": {
          "base_uri": "https://localhost:8080/"
        },
        "id": "OKF2YRVwWJmR",
        "outputId": "ea968c55-cef2-41cb-f2c7-22b17e19a7f7",
        "vscode": {
          "languageId": "python"
        }
      },
      "outputs": [
        {
          "data": {
            "text/plain": [
              "array([[1., 1., 1.],\n",
              "       [1., 1., 1.]])"
            ]
          },
          "execution_count": 50,
          "metadata": {},
          "output_type": "execute_result"
        }
      ],
      "source": [
        "np.ones((2,3))"
      ]
    },
    {
      "cell_type": "code",
      "execution_count": null,
      "metadata": {
        "colab": {
          "base_uri": "https://localhost:8080/"
        },
        "id": "95GCKt6QWLUM",
        "outputId": "f2725e04-f471-41cb-baa7-88294fd6b6e8",
        "vscode": {
          "languageId": "python"
        }
      },
      "outputs": [
        {
          "data": {
            "text/plain": [
              "array([[1., 0., 0., 0., 0.],\n",
              "       [0., 1., 0., 0., 0.],\n",
              "       [0., 0., 1., 0., 0.],\n",
              "       [0., 0., 0., 1., 0.],\n",
              "       [0., 0., 0., 0., 1.]])"
            ]
          },
          "execution_count": 51,
          "metadata": {},
          "output_type": "execute_result"
        }
      ],
      "source": [
        "np.identity(5) #np.eye(5, [k]) #identity matrix"
      ]
    },
    {
      "cell_type": "markdown",
      "metadata": {
        "id": "LeOxmEAGWVAz"
      },
      "source": [
        "### Utilities"
      ]
    },
    {
      "cell_type": "markdown",
      "metadata": {
        "id": "RXmO6tQdWtF4"
      },
      "source": [
        "Reshaping: changing the shape of an array\n",
        "\n",
        "```\n",
        "- reshape(dimension): convert the dimension of an array\n",
        "- flatten(): \"unroll\" the array in a one-dimensional array\n",
        "```\n",
        "\n",
        "\n",
        "\n"
      ]
    },
    {
      "cell_type": "code",
      "execution_count": null,
      "metadata": {
        "id": "QsHeM-CiWOIU",
        "vscode": {
          "languageId": "python"
        }
      },
      "outputs": [],
      "source": [
        "a2d = a1d.reshape((5,2))"
      ]
    },
    {
      "cell_type": "code",
      "execution_count": null,
      "metadata": {
        "colab": {
          "base_uri": "https://localhost:8080/"
        },
        "id": "dL3HC63SWzPR",
        "outputId": "d6286829-bbe3-4e42-f5f0-fded76f4a1c6",
        "vscode": {
          "languageId": "python"
        }
      },
      "outputs": [
        {
          "name": "stdout",
          "output_type": "stream",
          "text": [
            "Type: int64\n",
            "# dimensions and shape: 2, (5, 2)\n",
            "# of rows: 5\n",
            "\n"
          ]
        }
      ],
      "source": [
        "print_info(a2d)"
      ]
    },
    {
      "cell_type": "code",
      "execution_count": null,
      "metadata": {
        "id": "VMlQ-qmUW1-Q",
        "vscode": {
          "languageId": "python"
        }
      },
      "outputs": [],
      "source": [
        "a1d_again = a2d.flatten()"
      ]
    },
    {
      "cell_type": "code",
      "execution_count": null,
      "metadata": {
        "colab": {
          "base_uri": "https://localhost:8080/"
        },
        "id": "PYXAWz7LW-XV",
        "outputId": "a82d5a19-6ba1-4492-d4b5-859b99143c60",
        "vscode": {
          "languageId": "python"
        }
      },
      "outputs": [
        {
          "name": "stdout",
          "output_type": "stream",
          "text": [
            "Type: int64\n",
            "# dimensions and shape: 1, (10,)\n",
            "# of rows: 10\n",
            "\n"
          ]
        }
      ],
      "source": [
        "print_info(a1d)"
      ]
    },
    {
      "cell_type": "markdown",
      "metadata": {
        "id": "HFem5SKdXJa3"
      },
      "source": [
        "Comparison and matching functions\n",
        "\n",
        "```\n",
        "- any(): exists\n",
        "- all(): for all\n",
        "- where(condition): return the list of indices where the condition is satisfied\n",
        "```\n",
        "\n",
        "\n",
        "\n"
      ]
    },
    {
      "cell_type": "code",
      "execution_count": null,
      "metadata": {
        "colab": {
          "base_uri": "https://localhost:8080/"
        },
        "id": "AhU0NEEEXAZ6",
        "outputId": "dcbfc26d-87ca-45d4-e995-3dab4af65550",
        "vscode": {
          "languageId": "python"
        }
      },
      "outputs": [
        {
          "name": "stdout",
          "output_type": "stream",
          "text": [
            "Type: int64\n",
            "# dimensions and shape: 2, (5, 2)\n",
            "# of rows: 5\n",
            "\n"
          ]
        }
      ],
      "source": [
        "a2d_copy = a2d.copy() #copy of an array\n",
        "print_info(a2d_copy)"
      ]
    },
    {
      "cell_type": "code",
      "execution_count": null,
      "metadata": {
        "colab": {
          "base_uri": "https://localhost:8080/"
        },
        "id": "tvtSNg6vXbUQ",
        "outputId": "fa6d9317-b7ce-4574-835c-779b06d1b6c3",
        "vscode": {
          "languageId": "python"
        }
      },
      "outputs": [
        {
          "data": {
            "text/plain": [
              "True"
            ]
          },
          "execution_count": 57,
          "metadata": {},
          "output_type": "execute_result"
        }
      ],
      "source": [
        "(a2d == a2d_copy).all()"
      ]
    },
    {
      "cell_type": "code",
      "execution_count": null,
      "metadata": {
        "colab": {
          "base_uri": "https://localhost:8080/"
        },
        "id": "lZ6eE_bfXdMn",
        "outputId": "c0035e04-e987-4ec6-a873-1d48fd33fd8a",
        "vscode": {
          "languageId": "python"
        }
      },
      "outputs": [
        {
          "data": {
            "text/plain": [
              "False"
            ]
          },
          "execution_count": 58,
          "metadata": {},
          "output_type": "execute_result"
        }
      ],
      "source": [
        "(a2d != a2d_copy).any()"
      ]
    },
    {
      "cell_type": "code",
      "execution_count": null,
      "metadata": {
        "colab": {
          "base_uri": "https://localhost:8080/"
        },
        "id": "HqHcTcrfXeyW",
        "outputId": "9ae8e2d2-bde6-4216-e5b5-eadfb50f0667",
        "vscode": {
          "languageId": "python"
        }
      },
      "outputs": [
        {
          "data": {
            "text/plain": [
              "(array([3]),)"
            ]
          },
          "execution_count": 59,
          "metadata": {},
          "output_type": "execute_result"
        }
      ],
      "source": [
        "np.where(a1d==3)"
      ]
    },
    {
      "cell_type": "code",
      "execution_count": null,
      "metadata": {
        "id": "I5FYz_SrYIdE",
        "vscode": {
          "languageId": "python"
        }
      },
      "outputs": [],
      "source": [
        "a1d[np.where(a1d==3)] = 5"
      ]
    },
    {
      "cell_type": "code",
      "execution_count": null,
      "metadata": {
        "colab": {
          "base_uri": "https://localhost:8080/"
        },
        "id": "4HEYQnEtYJ7G",
        "outputId": "376acf00-049e-489f-9ddc-82e87784e2f6",
        "vscode": {
          "languageId": "python"
        }
      },
      "outputs": [
        {
          "data": {
            "text/plain": [
              "array([0, 1, 2, 5, 4, 5, 6, 7, 8, 9])"
            ]
          },
          "execution_count": 61,
          "metadata": {},
          "output_type": "execute_result"
        }
      ],
      "source": [
        "a1d"
      ]
    },
    {
      "cell_type": "markdown",
      "metadata": {
        "id": "urdCn5kEYb_u"
      },
      "source": [
        "Methods for matrices\n",
        "```\n",
        "- transpose() or (T)\n",
        "- sum()\n",
        "- prod()\n",
        "- mean()\n",
        "- dot(np.array): dot-product between arrays\n",
        "```"
      ]
    },
    {
      "cell_type": "code",
      "execution_count": null,
      "metadata": {
        "id": "V5uImutaYS__",
        "vscode": {
          "languageId": "python"
        }
      },
      "outputs": [],
      "source": [
        "mat_t = mat.transpose() #= mat.T"
      ]
    },
    {
      "cell_type": "code",
      "execution_count": null,
      "metadata": {
        "colab": {
          "base_uri": "https://localhost:8080/"
        },
        "id": "fj7KYH1EY_6g",
        "outputId": "17f649da-c35d-4b19-9860-61aa8d40acd7",
        "vscode": {
          "languageId": "python"
        }
      },
      "outputs": [
        {
          "name": "stdout",
          "output_type": "stream",
          "text": [
            "[[1. 2. 3.]\n",
            " [4. 5. 6.]]\n",
            "[[1. 4.]\n",
            " [2. 5.]\n",
            " [3. 6.]]\n"
          ]
        }
      ],
      "source": [
        "print(mat)\n",
        "print(mat_t)"
      ]
    },
    {
      "cell_type": "code",
      "execution_count": null,
      "metadata": {
        "colab": {
          "base_uri": "https://localhost:8080/"
        },
        "id": "s0ELgAuXZBIG",
        "outputId": "e82229f5-0bc4-4a2f-dd5d-38313c33eed6",
        "vscode": {
          "languageId": "python"
        }
      },
      "outputs": [
        {
          "name": "stdout",
          "output_type": "stream",
          "text": [
            "6.0\n",
            "1.0\n",
            "1.0\n"
          ]
        }
      ],
      "source": [
        "print(np.ones((2,3)).sum())\n",
        "print(np.ones((2,3)).prod())\n",
        "print(np.ones((2,3)).mean())\n",
        "#var(), std(), min(), max(), argmin(), argmax()"
      ]
    },
    {
      "cell_type": "code",
      "execution_count": null,
      "metadata": {
        "colab": {
          "base_uri": "https://localhost:8080/"
        },
        "id": "06g-mH5RZNHX",
        "outputId": "533b3fa1-5bc4-4a91-93e1-9e50c68a1775",
        "vscode": {
          "languageId": "python"
        }
      },
      "outputs": [
        {
          "name": "stdout",
          "output_type": "stream",
          "text": [
            "dot [47.]\n"
          ]
        }
      ],
      "source": [
        "print(\"dot\", np.dot(a1d, np.ones((10, 1))))"
      ]
    },
    {
      "cell_type": "markdown",
      "metadata": {
        "id": "eUj9d2i2Zcgw"
      },
      "source": [
        "## Linalg module\n",
        "Sub-module of the module *numpy*, ```linalg``` gives us basic tools of linear algebra"
      ]
    },
    {
      "cell_type": "markdown",
      "metadata": {
        "id": "VxQF3z_JZ1rV"
      },
      "source": [
        "### Determinant"
      ]
    },
    {
      "cell_type": "code",
      "execution_count": null,
      "metadata": {
        "colab": {
          "base_uri": "https://localhost:8080/"
        },
        "id": "C6o9yCg8ZUax",
        "outputId": "64ff2b13-c557-4ce6-89e8-39f9e7e0ac7f",
        "vscode": {
          "languageId": "python"
        }
      },
      "outputs": [
        {
          "name": "stdout",
          "output_type": "stream",
          "text": [
            "-48.00000000000003\n"
          ]
        }
      ],
      "source": [
        "q = np.array([[4,2,0], [9,3,7], [1,2,1]], float)\n",
        "print(np.linalg.det(q))"
      ]
    },
    {
      "cell_type": "markdown",
      "metadata": {
        "id": "qyEWrrZ3Z8C-"
      },
      "source": [
        "### Eigenvalues/Eigenvectors"
      ]
    },
    {
      "cell_type": "code",
      "execution_count": null,
      "metadata": {
        "colab": {
          "base_uri": "https://localhost:8080/"
        },
        "id": "mn50E49zZ6KC",
        "outputId": "2fcfbccc-1ab2-4373-b56f-28a376a6a3de",
        "vscode": {
          "languageId": "python"
        }
      },
      "outputs": [
        {
          "name": "stdout",
          "output_type": "stream",
          "text": [
            "[ 8.85591316  1.9391628  -2.79507597]\n",
            "[[-0.3663565  -0.54736745  0.25928158]\n",
            " [-0.88949768  0.5640176  -0.88091903]\n",
            " [-0.27308752  0.61828231  0.39592263]]\n"
          ]
        }
      ],
      "source": [
        "evals, evecs = np.linalg.eig(q)\n",
        "print(evals)\n",
        "print(evecs)"
      ]
    },
    {
      "cell_type": "markdown",
      "metadata": {
        "id": "zahs6qFOaDIs"
      },
      "source": [
        "### Generation of random numbers/distribution\n",
        "NOTE: random numbers can also be generated using the Python ```random``` module\n",
        "\n"
      ]
    },
    {
      "cell_type": "markdown",
      "metadata": {
        "id": "wDpbBOnSaWfY"
      },
      "source": [
        "The importance of the seed in the generation of random numbers"
      ]
    },
    {
      "cell_type": "code",
      "execution_count": null,
      "metadata": {
        "colab": {
          "base_uri": "https://localhost:8080/"
        },
        "id": "-i9XTRaiaAt-",
        "outputId": "e42a3ffc-7b19-4acc-b53a-4cfc8b3b7645",
        "vscode": {
          "languageId": "python"
        }
      },
      "outputs": [
        {
          "name": "stdout",
          "output_type": "stream",
          "text": [
            "0.45120370596487314\n",
            "0.12252262421091398\n"
          ]
        }
      ],
      "source": [
        "# No seed set\n",
        "print(np.random.random())\n",
        "print(np.random.random())"
      ]
    },
    {
      "cell_type": "code",
      "execution_count": null,
      "metadata": {
        "colab": {
          "base_uri": "https://localhost:8080/"
        },
        "id": "zhzdr-fZafGe",
        "outputId": "13bfc03a-1d23-4a59-bf06-a24b80779d7f",
        "vscode": {
          "languageId": "python"
        }
      },
      "outputs": [
        {
          "name": "stdout",
          "output_type": "stream",
          "text": [
            "0.3745401188473625\n",
            "0.9507143064099162\n",
            "0.3745401188473625\n",
            "0.9507143064099162\n"
          ]
        }
      ],
      "source": [
        "# Fixed seed\n",
        "np.random.seed(42)\n",
        "print(np.random.random())\n",
        "print(np.random.random())\n",
        "\n",
        "np.random.seed(42)\n",
        "print(np.random.random())\n",
        "print(np.random.random())"
      ]
    },
    {
      "cell_type": "markdown",
      "metadata": {
        "id": "kRwSoXblanH6"
      },
      "source": [
        "Sample e distribuzioni normali"
      ]
    },
    {
      "cell_type": "code",
      "execution_count": null,
      "metadata": {
        "colab": {
          "base_uri": "https://localhost:8080/"
        },
        "id": "j93aXs-pajNN",
        "outputId": "ceea1afc-ad42-411a-ff69-b1742fa94e36",
        "vscode": {
          "languageId": "python"
        }
      },
      "outputs": [
        {
          "data": {
            "text/plain": [
              "array([ 0.64768854,  1.52302986, -0.23415337, -0.23413696,  1.57921282,\n",
              "        0.76743473, -0.46947439,  0.54256004, -0.46341769, -0.46572975])"
            ]
          },
          "execution_count": 70,
          "metadata": {},
          "output_type": "execute_result"
        }
      ],
      "source": [
        "# Normal distribution with mean 0 and variance 1\"\n",
        "np.random.normal(0, 1, size=10)"
      ]
    },
    {
      "cell_type": "code",
      "execution_count": null,
      "metadata": {
        "colab": {
          "base_uri": "https://localhost:8080/"
        },
        "id": "g-hieeDuat6Y",
        "outputId": "74713473-603a-4b31-e9b6-f825e15cdb6f",
        "vscode": {
          "languageId": "python"
        }
      },
      "outputs": [
        {
          "data": {
            "text/plain": [
              "array([459, 313,  21, 252, 747, 856, 560, 474,  58, 510, 681, 475, 699,\n",
              "       975, 782, 189, 957, 686, 957, 562, 875, 566, 243, 831, 504, 130,\n",
              "       484, 818, 646,  20, 840, 166, 273, 387, 600, 315,  13, 241, 776,\n",
              "       345, 564, 897, 339,  91, 366, 955, 454, 427, 508, 775, 942,  34,\n",
              "       205,  80, 931, 561, 871, 387,   1, 389, 565, 105, 771, 821, 476,\n",
              "       702, 401, 729, 555, 161, 201, 957, 995, 269, 862, 815, 270, 455,\n",
              "       461, 726, 251, 701, 295, 724, 719, 748, 337, 878,  52, 791, 921,\n",
              "       216, 763, 187, 379, 492,  40, 156,  14, 812])"
            ]
          },
          "execution_count": 71,
          "metadata": {},
          "output_type": "execute_result"
        }
      ],
      "source": [
        "#Sample of 100 values drawn out from a pool of 1000 randomly generated \n",
        "np.random.choice(range(1000), 100)"
      ]
    },
    {
      "cell_type": "markdown",
      "metadata": {
        "id": "LHQ-z8Jpz7pr"
      },
      "source": [
        "# Matplotlib"
      ]
    },
    {
      "cell_type": "code",
      "execution_count": null,
      "metadata": {
        "id": "at3P3_Uta0QJ",
        "vscode": {
          "languageId": "python"
        }
      },
      "outputs": [],
      "source": [
        "#the following command is useful to the notebook to display plots inline\n",
        "%matplotlib inline \n",
        "import matplotlib.pyplot as plt"
      ]
    },
    {
      "cell_type": "markdown",
      "metadata": {
        "id": "f-jjXgeu0HZa"
      },
      "source": [
        "### Plot of a simple curve"
      ]
    },
    {
      "cell_type": "code",
      "execution_count": null,
      "metadata": {
        "colab": {
          "base_uri": "https://localhost:8080/"
        },
        "id": "iTHte7uYz_rw",
        "outputId": "e387bf98-ff8b-4ced-8bd8-f0a527ebedac",
        "vscode": {
          "languageId": "python"
        }
      },
      "outputs": [
        {
          "data": {
            "text/plain": [
              "array([ 0.,  1.,  2.,  3.,  4.,  5.,  6.,  7.,  8.,  9., 10., 11., 12.,\n",
              "       13., 14., 15., 16., 17., 18., 19., 20., 21., 22., 23., 24., 25.,\n",
              "       26., 27., 28., 29., 30., 31., 32., 33., 34., 35., 36., 37., 38.,\n",
              "       39., 40., 41., 42., 43., 44., 45., 46., 47., 48., 49., 50.])"
            ]
          },
          "execution_count": 73,
          "metadata": {},
          "output_type": "execute_result"
        }
      ],
      "source": [
        "#x = np.array(range(50))\n",
        "x = np.linspace(0, 50,51)  #Return evenly spaced numbers over a specified interval\n",
        "x"
      ]
    },
    {
      "cell_type": "code",
      "execution_count": null,
      "metadata": {
        "colab": {
          "base_uri": "https://localhost:8080/",
          "height": 265
        },
        "id": "TBsaNi5K0MVV",
        "outputId": "45df45db-065a-4f82-8e3a-d8d9c90f5a5e",
        "vscode": {
          "languageId": "python"
        }
      },
      "outputs": [
        {
          "data": {
            "image/png": "[encoded data removed]",
            "text/plain": [
              "<Figure size 432x288 with 1 Axes>"
            ]
          },
          "metadata": {
            "needs_background": "light"
          },
          "output_type": "display_data"
        }
      ],
      "source": [
        "y = x**2 #target value\n",
        "plt.plot(x,y)\n",
        "plt.show() #consume the plot: not necessary for notebooks, but necessary in general"
      ]
    },
    {
      "cell_type": "markdown",
      "metadata": {
        "id": "MPhX328m0Ys9"
      },
      "source": [
        "### Plot of two curves on a same graph"
      ]
    },
    {
      "cell_type": "code",
      "execution_count": null,
      "metadata": {
        "colab": {
          "base_uri": "https://localhost:8080/",
          "height": 265
        },
        "id": "6j8Bf36E0Tj_",
        "outputId": "27ae1ad2-982c-4e00-c807-e988e41565d2",
        "vscode": {
          "languageId": "python"
        }
      },
      "outputs": [
        {
          "data": {
            "image/png": "[encoded data removed]",
            "text/plain": [
              "<Figure size 432x288 with 1 Axes>"
            ]
          },
          "metadata": {
            "needs_background": "light"
          },
          "output_type": "display_data"
        }
      ],
      "source": [
        "y1 = x**1.8\n",
        "plt.plot(x,y)\n",
        "plt.plot(x,y1)\n",
        "plt.show()"
      ]
    },
    {
      "cell_type": "code",
      "execution_count": null,
      "metadata": {
        "colab": {
          "base_uri": "https://localhost:8080/",
          "height": 269
        },
        "id": "SR7Pk9Cv0ihG",
        "outputId": "59e163df-8474-43f6-cc60-3715160b3704",
        "vscode": {
          "languageId": "python"
        }
      },
      "outputs": [
        {
          "data": {
            "image/png": "[encoded data removed]",
            "text/plain": [
              "<Figure size 432x288 with 2 Axes>"
            ]
          },
          "metadata": {
            "needs_background": "light"
          },
          "output_type": "display_data"
        }
      ],
      "source": [
        "# Create a figure of size 8x6 inches, 80 dots per inch\n",
        "#plt.figure(figsize=(8, 6), dpi=80)\n",
        "\n",
        "# Create a new subplot from a grid of 1x1\n",
        "plt.subplot(2, 1, 1)\n",
        "\n",
        "x = np.linspace(-np.pi, np.pi, 256)\n",
        "c, s = np.cos(x), np.sin(x)\n",
        "\n",
        "# Plot cosine with a blue continuous line of width 1 (pixels)\n",
        "plt.plot(x, c, color=\"blue\", linewidth=1.0, linestyle=\"-\", label=\"blue\")\n",
        "\n",
        "# Plot sine with a green continuous line of width 1 (pixels)\n",
        "plt.plot(x, s, color=\"green\", linewidth=1.0, linestyle=\"--\", label=\"green\")\n",
        "\n",
        "# Set x limits\n",
        "plt.xlim(-4.0, 4.0)\n",
        "\n",
        "# Set x ticks\n",
        "plt.xticks(np.linspace(-4, 4, 9, endpoint=True))\n",
        "\n",
        "# Set y limits\n",
        "plt.ylim(-1.0, 1.0)\n",
        "\n",
        "# Set y ticks\n",
        "plt.yticks(np.linspace(-1, 1, 5, endpoint=True))\n",
        "\n",
        "# Save figure using 72 dots per inch\n",
        "# plt.savefig(\"exercice_2.png\", dpi=72)\n",
        "\n",
        "plt.legend(loc='upper left')\n",
        "\n",
        "plt.subplot(2, 1, 2)\n",
        "h = np.random.normal(0,1,100)\n",
        "plt.hist(h) #histogram\n",
        "plt.show()"
      ]
    },
    {
      "cell_type": "markdown",
      "metadata": {
        "id": "9bDzLjYm4mjP"
      },
      "source": [
        "# Ridge regression\n",
        "$\\min_\\mathbf{w} \\|y - X\\mathbf{w}\\|^2_2 + \\alpha \\|\\mathbf{w}\\|^2_2$"
      ]
    },
    {
      "cell_type": "markdown",
      "metadata": {
        "id": "Pay-VTEd41_Q"
      },
      "source": [
        "### Training set \n",
        "$\\{(x_i, y_i)\\}_{i=1}^n$ where $y = \\sin(2\\pi x) + \\epsilon$"
      ]
    },
    {
      "cell_type": "code",
      "execution_count": null,
      "metadata": {
        "id": "OAW-0c-2gjsU",
        "vscode": {
          "languageId": "python"
        }
      },
      "outputs": [],
      "source": [
        "#target function\n",
        "def f(x):\n",
        "    return np.sin(2 * np.pi * x)"
      ]
    },
    {
      "cell_type": "markdown",
      "metadata": {
        "id": "UPemmXMVs-xp"
      },
      "source": [
        "### Dataset (artificial)"
      ]
    },
    {
      "cell_type": "code",
      "execution_count": null,
      "metadata": {
        "colab": {
          "base_uri": "https://localhost:8080/"
        },
        "id": "-fx4rA2qeipw",
        "outputId": "00f1584c-05fa-40a2-e480-b5c6dcc54e15",
        "vscode": {
          "languageId": "python"
        }
      },
      "outputs": [
        {
          "name": "stdout",
          "output_type": "stream",
          "text": [
            "Type: float64\n",
            "# dimensions and shape: 2, (100, 1)\n",
            "# of rows: 100\n",
            "\n",
            "Type: float64\n",
            "# dimensions and shape: 2, (100, 1)\n",
            "# of rows: 100\n",
            "\n"
          ]
        }
      ],
      "source": [
        "np.random.seed(9)\n",
        "n_samples = 100\n",
        "X = np.random.uniform(0, 1, size=n_samples)[:, np.newaxis] # add a dimension to the array (useful to have a column matrix)\n",
        "y = f(X) + np.random.normal(scale=0.3, size=n_samples)[:, np.newaxis] #add a dimension to the array (useful to have a column matrix)\n",
        "print_info(X)\n",
        "print_info(y)"
      ]
    },
    {
      "cell_type": "markdown",
      "metadata": {
        "id": "hGLmn6xltCSF"
      },
      "source": [
        "### Training set and test set"
      ]
    },
    {
      "cell_type": "code",
      "execution_count": null,
      "metadata": {
        "id": "ArTtNvJ1tGOD",
        "vscode": {
          "languageId": "python"
        }
      },
      "outputs": [],
      "source": [
        "from sklearn.model_selection import train_test_split\n",
        "X_train, X_test, y_train, y_test = train_test_split(X, y, test_size=0.8)"
      ]
    },
    {
      "cell_type": "code",
      "execution_count": null,
      "metadata": {
        "colab": {
          "base_uri": "https://localhost:8080/",
          "height": 283
        },
        "id": "_bDlAj_osn8D",
        "outputId": "b3f392a3-87c6-4c8d-d19c-4ddf33ef8818",
        "vscode": {
          "languageId": "python"
        }
      },
      "outputs": [
        {
          "data": {
            "image/png": "[encoded data removed]",
            "text/plain": [
              "<Figure size 432x288 with 1 Axes>"
            ]
          },
          "metadata": {
            "needs_background": "light"
          },
          "output_type": "display_data"
        }
      ],
      "source": [
        "x_plot = np.linspace(0, 1, 100)\n",
        "ax = plt.gca()\n",
        "ax.plot(x_plot, f(x_plot), color='green')\n",
        "ax.scatter(X_train, y_train, s=10)\n",
        "ax.set_ylim((-2, 2))\n",
        "ax.set_xlim((0, 1))\n",
        "ax.set_ylabel('y')\n",
        "ax.set_xlabel('x')\n",
        "plt.show()"
      ]
    },
    {
      "cell_type": "markdown",
      "metadata": {
        "id": "UeGoJpUhv3WG"
      },
      "source": [
        "Utility for graph plotting"
      ]
    },
    {
      "cell_type": "code",
      "execution_count": null,
      "metadata": {
        "id": "xCur2C2JhcK7",
        "vscode": {
          "languageId": "python"
        }
      },
      "outputs": [],
      "source": [
        "def plot_approximation(est, X_train, y_train, x_plot, ax, label):\n",
        "    ax.plot(x_plot, f(x_plot), color='green')\n",
        "    ax.scatter(X_train, y_train)\n",
        "    ax.plot(x_plot, est.predict(x_plot[:, np.newaxis]), color='red', label=label)\n",
        "    ax.set_ylim((-2, 2))\n",
        "    ax.set_xlim((0, 1))\n",
        "    ax.set_ylabel('y')\n",
        "    ax.set_xlabel('x')\n",
        "    ax.legend()"
      ]
    },
    {
      "cell_type": "code",
      "execution_count": null,
      "metadata": {
        "id": "G13ywJkLiWtC",
        "vscode": {
          "languageId": "python"
        }
      },
      "outputs": [],
      "source": [
        "def plot_coefficients(est, ax, label):\n",
        "    coef = est.steps[-1][1].coef_.flatten()\n",
        "    print(coef.shape)\n",
        "    ax.semilogy(np.abs(coef[1:]), marker='o', label=label)\n",
        "    ax.set_ylim((1e-10, 1e8))"
      ]
    },
    {
      "cell_type": "markdown",
      "metadata": {
        "id": "BrGGRNNSv8C4"
      },
      "source": [
        "### Training the model\n",
        "The effect of the regularization hyper-parameter ($\\alpha$)"
      ]
    },
    {
      "cell_type": "code",
      "execution_count": null,
      "metadata": {
        "colab": {
          "base_uri": "https://localhost:8080/",
          "height": 1000
        },
        "id": "32pUyXnLjAyc",
        "outputId": "d7ee5eb3-de64-417f-923e-0a8026a56210",
        "vscode": {
          "languageId": "python"
        }
      },
      "outputs": [
        {
          "name": "stderr",
          "output_type": "stream",
          "text": [
            "/usr/local/lib/python3.7/dist-packages/sklearn/linear_model/_ridge.py:190: UserWarning: Singular matrix in solving dual problem. Using least-squares solution instead.\n",
            "  warnings.warn(\"Singular matrix in solving dual problem. Using \"\n"
          ]
        },
        {
          "name": "stdout",
          "output_type": "stream",
          "text": [
            "(21,)\n",
            "(21,)\n",
            "(21,)\n",
            "(21,)\n"
          ]
        },
        {
          "data": {
            "image/png": "[encoded data removed]",
            "text/plain": [
              "<Figure size 864x1152 with 8 Axes>"
            ]
          },
          "metadata": {
            "needs_background": "light"
          },
          "output_type": "display_data"
        }
      ],
      "source": [
        "from sklearn.linear_model import Ridge\n",
        "from sklearn.preprocessing import PolynomialFeatures\n",
        "from sklearn.pipeline import make_pipeline\n",
        "\n",
        "_, ax_rows = plt.subplots(4, 2, figsize=(12, 16))\n",
        "degree = 20\n",
        "alphas = [0.0, 1e-8, 1e-5, 1e-1]\n",
        "for alpha, ax_row in zip(alphas, ax_rows):\n",
        "    est = make_pipeline(PolynomialFeatures(degree), Ridge(alpha=alpha)) #pipeline: Creation of polynomial features -> Training of the Ridge model\n",
        "    est.fit(X_train, y_train)\n",
        "    plot_approximation(est, X_train, y_train, x_plot, ax_row[0], label='alpha=%r' % alpha)\n",
        "    plot_coefficients(est, ax_row[1], label='Ridge(alpha=%r) coefficients' % alpha)\n",
        "plt.show()"
      ]
    },
    {
      "cell_type": "markdown",
      "metadata": {
        "id": "gm8rpCYAwEVe"
      },
      "source": [
        "### Evaluation\n",
        "Mean Squared Error (MSE) evaluation on the test set "
      ]
    },
    {
      "cell_type": "code",
      "execution_count": null,
      "metadata": {
        "colab": {
          "base_uri": "https://localhost:8080/",
          "height": 283
        },
        "id": "JJRFEZQYmCgw",
        "outputId": "0ca8890a-c79d-4516-b50e-cf66c2e39ed7",
        "vscode": {
          "languageId": "python"
        }
      },
      "outputs": [
        {
          "data": {
            "image/png": "[encoded data removed]",
            "text/plain": [
              "<Figure size 432x288 with 1 Axes>"
            ]
          },
          "metadata": {
            "needs_background": "light"
          },
          "output_type": "display_data"
        }
      ],
      "source": [
        "from sklearn.metrics import mean_squared_error #import MSE\n",
        "train_error = np.empty(10)\n",
        "test_error = np.empty(10)\n",
        "\n",
        "for degree in range(10):\n",
        "    #est = make_pipeline(PolynomialFeatures(degree), Ridge(alpha=1e-5))\n",
        "    est = make_pipeline(PolynomialFeatures(degree), Ridge(alpha=0.000001))\n",
        "    est.fit(X_train, y_train)\n",
        "    train_error[degree] = mean_squared_error(y_train, est.predict(X_train))\n",
        "    test_error[degree] = mean_squared_error(y_test, est.predict(X_test))\n",
        "\n",
        "plt.plot(np.arange(10), train_error, color='green', label='train')\n",
        "plt.plot(np.arange(10), test_error, color='red', label='test')\n",
        "plt.ylim((0.0, 1.))\n",
        "plt.ylabel('MSE')\n",
        "plt.xlabel('degree')\n",
        "plt.legend()\n",
        "plt.show()"
      ]
    },
    {
      "cell_type": "code",
      "execution_count": null,
      "metadata": {
        "id": "FACx2oFZOEdy",
        "vscode": {
          "languageId": "python"
        }
      },
      "outputs": [],
      "source": []
    }
  ],
  "metadata": {
    "colab": {
      "collapsed_sections": [],
      "provenance": [],
      "include_colab_link": true
    },
    "kernelspec": {
      "display_name": "Python 3",
      "name": "python3"
    }
  },
  "nbformat": 4,
  "nbformat_minor": 0
}