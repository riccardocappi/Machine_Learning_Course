{
  "nbformat": 4,
  "nbformat_minor": 0,
  "metadata": {
    "colab": {
      "provenance": [],
      "authorship_tag": "ABX9TyM06kZ33XUV7nSs6l0meiJg",
      "include_colab_link": true
    },
    "kernelspec": {
      "name": "python3",
      "display_name": "Python 3"
    },
    "language_info": {
      "name": "python"
    }
  },
  "cells": [
    {
      "cell_type": "markdown",
      "metadata": {
        "id": "view-in-github",
        "colab_type": "text"
      },
      "source": [
        "<a href=\"https://colab.research.google.com/github/riccardocappi/Machine_Learning_Course/blob/main/Decision_Trees_Python.ipynb\" target=\"_parent\"><img src=\"https://colab.research.google.com/assets/colab-badge.svg\" alt=\"Open In Colab\"/></a>"
      ]
    },
    {
      "cell_type": "markdown",
      "source": [
        "###Decision Trees implementation from scratch###\n",
        "**Riccardo Cappi, 2073768**"
      ],
      "metadata": {
        "id": "UBsAZVXNRTBC"
      }
    },
    {
      "cell_type": "markdown",
      "source": [
        "###Create Boolean Formulas Dataset###"
      ],
      "metadata": {
        "id": "DcGaTd0_Uzkb"
      }
    },
    {
      "cell_type": "code",
      "execution_count": null,
      "metadata": {
        "colab": {
          "base_uri": "https://localhost:8080/"
        },
        "id": "E1EoSjh9HLbm",
        "outputId": "f3b26d05-acaf-415d-af0d-af9cda88f973"
      },
      "outputs": [
        {
          "output_type": "stream",
          "name": "stdout",
          "text": [
            "AND\n",
            "      X1     X2     X3      Y\n",
            "0  False  False  False  False\n",
            "1  False  False   True  False\n",
            "2  False   True  False  False\n",
            "3  False   True   True  False\n",
            "4   True  False  False  False\n",
            "5   True  False   True  False\n",
            "6   True   True  False  False\n",
            "7   True   True   True   True\n",
            "\n",
            "OR\n",
            "      X1     X2     X3      Y\n",
            "0  False  False  False  False\n",
            "1  False  False   True   True\n",
            "2  False   True  False   True\n",
            "3  False   True   True   True\n",
            "4   True  False  False   True\n",
            "5   True  False   True   True\n",
            "6   True   True  False   True\n",
            "7   True   True   True   True\n",
            "\n",
            "XOR\n",
            "      X1     X2     X3      Y\n",
            "0  False  False  False  False\n",
            "1  False  False   True   True\n",
            "2  False   True  False   True\n",
            "3  False   True   True  False\n",
            "4   True  False  False   True\n",
            "5   True  False   True  False\n",
            "6   True   True  False  False\n",
            "7   True   True   True   True\n"
          ]
        }
      ],
      "source": [
        "\n",
        "from itertools import product\n",
        "import pandas as pd\n",
        "import math\n",
        "import numpy as np\n",
        "\n",
        "AND = lambda x1,x2,x3: x1 and x2 and x3\n",
        "OR = lambda x1,x2,x3: x1 or x2 or x3\n",
        "def XOR(x1,x2,x3):\n",
        "  a = (x1 and (not x2)) or ((not x1) and x2)\n",
        "  return (a and (not x3)) or ((not a) and x3)\n",
        "\n",
        "\n",
        "#Fake Datasets (Boolean Formulas)\n",
        "values_and = [list(a) + [AND(*a)] for a in product((False,True),repeat=3)]\n",
        "values_or = [list(a) + [OR(*a)] for a in product((False,True),repeat=3)]\n",
        "values_xor = [list(a) + [XOR(*a)] for a in product((False,True),repeat=3)]\n",
        "\n",
        "dataset_and = pd.DataFrame(values_and, columns=['X1','X2','X3','Y'])\n",
        "dataset_or = pd.DataFrame(values_or, columns=['X1','X2','X3','Y'])\n",
        "dataset_xor = pd.DataFrame(values_xor, columns=['X1','X2','X3','Y'])\n",
        "\n",
        "print('AND')\n",
        "print(dataset_and)\n",
        "print('\\nOR')\n",
        "print(dataset_or)\n",
        "print('\\nXOR')\n",
        "print(dataset_xor)"
      ]
    },
    {
      "cell_type": "markdown",
      "source": [
        "###Define Tree Object###"
      ],
      "metadata": {
        "id": "ETFkg-3bRgBw"
      }
    },
    {
      "cell_type": "code",
      "source": [
        "# Define a hierarchy of classes in order to handle the construction of the Decision Tree\n",
        "class Node:\n",
        "  def __init__(self, label, level):\n",
        "      self.label = label\n",
        "      self.level = level\n",
        "      \n",
        "\n",
        "class InnerNode(Node):\n",
        "  def __init__(self, label, level,information_gain):\n",
        "    super(InnerNode, self).__init__(label, level)\n",
        "    self.subtrees = {}\n",
        "    self.information_gain = information_gain\n",
        "\n",
        "  def __str__(self):\n",
        "    s = self.label + '[ Inf. Gain: '+str(self.information_gain) + ' ]\\n'\n",
        "    offset = ''\n",
        "    for _ in range(self.level):\n",
        "      offset += '     '\n",
        "    for n in self.subtrees.keys():\n",
        "      s += offset + '|\\n' + offset[:-1] + str(n)+'\\n' + offset + '|____'  +str(self.subtrees[n])\n",
        "    return s\n",
        "\n",
        "\n",
        "class Leaf(Node):\n",
        "  def __init__(self, label, level):\n",
        "    super(Leaf, self).__init__(label, level)\n",
        "\n",
        "  def __str__(self):\n",
        "    s = str(self.label) + '\\n'\n",
        "    return s"
      ],
      "metadata": {
        "id": "ySn9kSgHNVA1"
      },
      "execution_count": null,
      "outputs": []
    },
    {
      "cell_type": "markdown",
      "source": [
        "###Implementation of Entropy and Information Gain###"
      ],
      "metadata": {
        "id": "txFWGSPiRl7B"
      }
    },
    {
      "cell_type": "code",
      "source": [
        "#Entropy\n",
        "def E(S, classes, column_classes_label):\n",
        "  entropy = 0\n",
        "  for c in classes:\n",
        "    card_Sc = len(S[S[column_classes_label]==c])\n",
        "    pc = card_Sc / len(S)\n",
        "    if pc == 1:\n",
        "      return 0\n",
        "    if pc == 0:\n",
        "      continue\n",
        "    entropy += pc*math.log2(pc)\n",
        "  return -entropy\n",
        "\n",
        "#Returns the set of values that a specific argument can have\n",
        "def get_attribute_value_space(selected_attribute, S):\n",
        "  values = S[[selected_attribute]].to_numpy().flatten()\n",
        "  V = list(dict.fromkeys(values))\n",
        "  return V\n",
        "\n",
        "#Information Gain\n",
        "def G(total_entropy, selected_attribute, S, classes, column_classes_label):\n",
        "  sum = 0\n",
        "  # Get set of values of 'selected_attribute'\n",
        "  V = get_attribute_value_space(selected_attribute, S)\n",
        "  for v in V:\n",
        "    S_av = S[S[selected_attribute]==v]\n",
        "    sum += (len(S_av)/len(S)) * E(S_av, classes, column_classes_label)\n",
        "  return total_entropy - sum"
      ],
      "metadata": {
        "id": "zAfJVedWUDwv"
      },
      "execution_count": null,
      "outputs": []
    },
    {
      "cell_type": "markdown",
      "source": [
        "###ID3 Implementation###"
      ],
      "metadata": {
        "id": "VHO2xy60WJMw"
      }
    },
    {
      "cell_type": "code",
      "source": [
        "\n",
        "def ID3(total_entropy, S, A, classes, level, column_classes_label):\n",
        "  if len(A) == 0:\n",
        "    majority_class = max(classes, key= lambda c: len(S[S[column_classes_label]==c]))\n",
        "    return Leaf(label=majority_class, level = level)\n",
        "\n",
        "  if total_entropy == 0:\n",
        "    return Leaf(label = S[column_classes_label].values[0], level = level)\n",
        "\n",
        "  print('Total Entropy at level '+ str(level)+': ',str(total_entropy)+ '\\n')\n",
        "  max_gain = np.inf\n",
        "  t = tuple()\n",
        "  # Find best attribute\n",
        "  for a in A:\n",
        "    a_gain = G(total_entropy, a, S, classes, column_classes_label)\n",
        "    print(a+'[ Information Gain: ', str(a_gain) + ' ]')\n",
        "    if (a_gain > max_gain) or (max_gain == np.inf):\n",
        "      max_gain = a_gain\n",
        "      t = (a, a_gain)\n",
        "  \n",
        "  best_attribute = t[0]\n",
        "  T = InnerNode(label = best_attribute, level = level, information_gain = t[1])\n",
        "\n",
        "  ### Printing information\n",
        "  print('\\nBest Attribute:', T)\n",
        "  print('\\n-----------------------------------------\\n')\n",
        "  ###\n",
        "\n",
        "  A.remove(best_attribute)\n",
        "  V = get_attribute_value_space(best_attribute, S)\n",
        "  for v in V:\n",
        "    S_v = S[S[best_attribute]==v]\n",
        "    T.subtrees[v] = ID3(E(S_v,classes, column_classes_label), S_v, A.copy(), classes, level+1, column_classes_label)\n",
        "  return T\n",
        "\n",
        "\n",
        "def test_ID3(df, A, column_classes_label):\n",
        "  classes = get_attribute_value_space(column_classes_label, df)\n",
        "  tot_entropy = E(df, classes, column_classes_label)\n",
        "  Tree = ID3(tot_entropy, df, A, classes,0, column_classes_label)\n",
        "  print('Decision Tree representation\\n')\n",
        "  print(Tree)\n"
      ],
      "metadata": {
        "id": "b7ekU-Fmkofj"
      },
      "execution_count": null,
      "outputs": []
    },
    {
      "cell_type": "markdown",
      "source": [
        "###Test 'AND' Dataset"
      ],
      "metadata": {
        "id": "cAdY7FIZKtR9"
      }
    },
    {
      "cell_type": "code",
      "source": [
        "test_ID3(dataset_and, ['X1', 'X2', 'X3'],'Y')"
      ],
      "metadata": {
        "colab": {
          "base_uri": "https://localhost:8080/"
        },
        "id": "mmop2YWabo0u",
        "outputId": "9d11e168-2ea6-447c-9f2e-b499aed55eac"
      },
      "execution_count": null,
      "outputs": [
        {
          "output_type": "stream",
          "name": "stdout",
          "text": [
            "Total Entropy at level 0:  0.5435644431995964\n",
            "\n",
            "X1[ Information Gain:  0.13792538097003 ]\n",
            "X2[ Information Gain:  0.13792538097003 ]\n",
            "X3[ Information Gain:  0.13792538097003 ]\n",
            "\n",
            "Best Attribute: X1[ Inf. Gain: 0.13792538097003 ]\n",
            "\n",
            "\n",
            "-----------------------------------------\n",
            "\n",
            "Total Entropy at level 1:  0.8112781244591328\n",
            "\n",
            "X2[ Information Gain:  0.31127812445913283 ]\n",
            "X3[ Information Gain:  0.31127812445913283 ]\n",
            "\n",
            "Best Attribute: X2[ Inf. Gain: 0.31127812445913283 ]\n",
            "\n",
            "\n",
            "-----------------------------------------\n",
            "\n",
            "Total Entropy at level 2:  1.0\n",
            "\n",
            "X3[ Information Gain:  1.0 ]\n",
            "\n",
            "Best Attribute: X3[ Inf. Gain: 1.0 ]\n",
            "\n",
            "\n",
            "-----------------------------------------\n",
            "\n",
            "Decision Tree representation\n",
            "\n",
            "X1[ Inf. Gain: 0.13792538097003 ]\n",
            "|\n",
            "False\n",
            "|____False\n",
            "|\n",
            "True\n",
            "|____X2[ Inf. Gain: 0.31127812445913283 ]\n",
            "     |\n",
            "    False\n",
            "     |____False\n",
            "     |\n",
            "    True\n",
            "     |____X3[ Inf. Gain: 1.0 ]\n",
            "          |\n",
            "         False\n",
            "          |____False\n",
            "          |\n",
            "         True\n",
            "          |____True\n",
            "\n"
          ]
        }
      ]
    },
    {
      "cell_type": "markdown",
      "source": [
        "###Test 'OR' Dataset"
      ],
      "metadata": {
        "id": "WXNv-ysYKxvk"
      }
    },
    {
      "cell_type": "code",
      "source": [
        "test_ID3(dataset_or,['X1', 'X2', 'X3'],'Y')"
      ],
      "metadata": {
        "colab": {
          "base_uri": "https://localhost:8080/"
        },
        "id": "JTmAC64ibx3W",
        "outputId": "cd2871ce-7314-44d1-9113-e1d6ee177a70"
      },
      "execution_count": null,
      "outputs": [
        {
          "output_type": "stream",
          "name": "stdout",
          "text": [
            "Total Entropy at level 0:  0.5435644431995964\n",
            "\n",
            "X1[ Information Gain:  0.13792538097003 ]\n",
            "X2[ Information Gain:  0.13792538097003 ]\n",
            "X3[ Information Gain:  0.13792538097003 ]\n",
            "\n",
            "Best Attribute: X1[ Inf. Gain: 0.13792538097003 ]\n",
            "\n",
            "\n",
            "-----------------------------------------\n",
            "\n",
            "Total Entropy at level 1:  0.8112781244591328\n",
            "\n",
            "X2[ Information Gain:  0.31127812445913283 ]\n",
            "X3[ Information Gain:  0.31127812445913283 ]\n",
            "\n",
            "Best Attribute: X2[ Inf. Gain: 0.31127812445913283 ]\n",
            "\n",
            "\n",
            "-----------------------------------------\n",
            "\n",
            "Total Entropy at level 2:  1.0\n",
            "\n",
            "X3[ Information Gain:  1.0 ]\n",
            "\n",
            "Best Attribute: X3[ Inf. Gain: 1.0 ]\n",
            "\n",
            "\n",
            "-----------------------------------------\n",
            "\n",
            "Decision Tree representation\n",
            "\n",
            "X1[ Inf. Gain: 0.13792538097003 ]\n",
            "|\n",
            "False\n",
            "|____X2[ Inf. Gain: 0.31127812445913283 ]\n",
            "     |\n",
            "    False\n",
            "     |____X3[ Inf. Gain: 1.0 ]\n",
            "          |\n",
            "         False\n",
            "          |____False\n",
            "          |\n",
            "         True\n",
            "          |____True\n",
            "     |\n",
            "    True\n",
            "     |____True\n",
            "|\n",
            "True\n",
            "|____True\n",
            "\n"
          ]
        }
      ]
    },
    {
      "cell_type": "markdown",
      "source": [
        "###Test 'XOR' Dataset###"
      ],
      "metadata": {
        "id": "TCPmfnV-K1vl"
      }
    },
    {
      "cell_type": "code",
      "source": [
        "test_ID3(dataset_xor,['X1', 'X2', 'X3'],'Y')"
      ],
      "metadata": {
        "colab": {
          "base_uri": "https://localhost:8080/"
        },
        "id": "bL7WLC7-cq_T",
        "outputId": "9df8a315-faab-4996-dccf-4735cfc61585"
      },
      "execution_count": null,
      "outputs": [
        {
          "output_type": "stream",
          "name": "stdout",
          "text": [
            "Total Entropy at level 0:  1.0\n",
            "\n",
            "X1[ Information Gain:  0.0 ]\n",
            "X2[ Information Gain:  0.0 ]\n",
            "X3[ Information Gain:  0.0 ]\n",
            "\n",
            "Best Attribute: X1[ Inf. Gain: 0.0 ]\n",
            "\n",
            "\n",
            "-----------------------------------------\n",
            "\n",
            "Total Entropy at level 1:  1.0\n",
            "\n",
            "X2[ Information Gain:  0.0 ]\n",
            "X3[ Information Gain:  0.0 ]\n",
            "\n",
            "Best Attribute: X2[ Inf. Gain: 0.0 ]\n",
            "\n",
            "\n",
            "-----------------------------------------\n",
            "\n",
            "Total Entropy at level 2:  1.0\n",
            "\n",
            "X3[ Information Gain:  1.0 ]\n",
            "\n",
            "Best Attribute: X3[ Inf. Gain: 1.0 ]\n",
            "\n",
            "\n",
            "-----------------------------------------\n",
            "\n",
            "Total Entropy at level 2:  1.0\n",
            "\n",
            "X3[ Information Gain:  1.0 ]\n",
            "\n",
            "Best Attribute: X3[ Inf. Gain: 1.0 ]\n",
            "\n",
            "\n",
            "-----------------------------------------\n",
            "\n",
            "Total Entropy at level 1:  1.0\n",
            "\n",
            "X2[ Information Gain:  0.0 ]\n",
            "X3[ Information Gain:  0.0 ]\n",
            "\n",
            "Best Attribute: X2[ Inf. Gain: 0.0 ]\n",
            "\n",
            "\n",
            "-----------------------------------------\n",
            "\n",
            "Total Entropy at level 2:  1.0\n",
            "\n",
            "X3[ Information Gain:  1.0 ]\n",
            "\n",
            "Best Attribute: X3[ Inf. Gain: 1.0 ]\n",
            "\n",
            "\n",
            "-----------------------------------------\n",
            "\n",
            "Total Entropy at level 2:  1.0\n",
            "\n",
            "X3[ Information Gain:  1.0 ]\n",
            "\n",
            "Best Attribute: X3[ Inf. Gain: 1.0 ]\n",
            "\n",
            "\n",
            "-----------------------------------------\n",
            "\n",
            "Decision Tree representation\n",
            "\n",
            "X1[ Inf. Gain: 0.0 ]\n",
            "|\n",
            "False\n",
            "|____X2[ Inf. Gain: 0.0 ]\n",
            "     |\n",
            "    False\n",
            "     |____X3[ Inf. Gain: 1.0 ]\n",
            "          |\n",
            "         False\n",
            "          |____False\n",
            "          |\n",
            "         True\n",
            "          |____True\n",
            "     |\n",
            "    True\n",
            "     |____X3[ Inf. Gain: 1.0 ]\n",
            "          |\n",
            "         False\n",
            "          |____True\n",
            "          |\n",
            "         True\n",
            "          |____False\n",
            "|\n",
            "True\n",
            "|____X2[ Inf. Gain: 0.0 ]\n",
            "     |\n",
            "    False\n",
            "     |____X3[ Inf. Gain: 1.0 ]\n",
            "          |\n",
            "         False\n",
            "          |____True\n",
            "          |\n",
            "         True\n",
            "          |____False\n",
            "     |\n",
            "    True\n",
            "     |____X3[ Inf. Gain: 1.0 ]\n",
            "          |\n",
            "         False\n",
            "          |____False\n",
            "          |\n",
            "         True\n",
            "          |____True\n",
            "\n"
          ]
        }
      ]
    },
    {
      "cell_type": "markdown",
      "source": [
        "###Test 'PlayTennis' Dataset###"
      ],
      "metadata": {
        "id": "DfP7o5aLI6ax"
      }
    },
    {
      "cell_type": "code",
      "source": [
        "dataset_tennis = pd.read_csv('./tennis.csv', header=None)\n",
        "dataset_tennis.columns = (['Outlook', 'Temperature', 'Humidity','Wind','PlayTennis'])\n",
        "test_ID3(dataset_tennis,['Outlook', 'Temperature', 'Humidity','Wind'],'PlayTennis')"
      ],
      "metadata": {
        "colab": {
          "base_uri": "https://localhost:8080/"
        },
        "id": "pDBB5wVU7uDH",
        "outputId": "f9ea9d8e-3e03-46f7-c641-7fe754fbd520"
      },
      "execution_count": null,
      "outputs": [
        {
          "output_type": "stream",
          "name": "stdout",
          "text": [
            "Total Entropy at level 0:  0.9402859586706309\n",
            "\n",
            "Outlook[ Information Gain:  0.2467498197744391 ]\n",
            "Temperature[ Information Gain:  0.029222565658954647 ]\n",
            "Humidity[ Information Gain:  0.15183550136234136 ]\n",
            "Wind[ Information Gain:  0.04812703040826927 ]\n",
            "\n",
            "Best Attribute: Outlook[ Inf. Gain: 0.2467498197744391 ]\n",
            "\n",
            "\n",
            "-----------------------------------------\n",
            "\n",
            "Total Entropy at level 1:  0.9709505944546686\n",
            "\n",
            "Temperature[ Information Gain:  0.5709505944546686 ]\n",
            "Humidity[ Information Gain:  0.9709505944546686 ]\n",
            "Wind[ Information Gain:  0.01997309402197489 ]\n",
            "\n",
            "Best Attribute: Humidity[ Inf. Gain: 0.9709505944546686 ]\n",
            "\n",
            "\n",
            "-----------------------------------------\n",
            "\n",
            "Total Entropy at level 1:  0.9709505944546686\n",
            "\n",
            "Temperature[ Information Gain:  0.01997309402197489 ]\n",
            "Humidity[ Information Gain:  0.01997309402197489 ]\n",
            "Wind[ Information Gain:  0.9709505944546686 ]\n",
            "\n",
            "Best Attribute: Wind[ Inf. Gain: 0.9709505944546686 ]\n",
            "\n",
            "\n",
            "-----------------------------------------\n",
            "\n",
            "Decision Tree representation\n",
            "\n",
            "Outlook[ Inf. Gain: 0.2467498197744391 ]\n",
            "|\n",
            "Sunny\n",
            "|____Humidity[ Inf. Gain: 0.9709505944546686 ]\n",
            "     |\n",
            "    High\n",
            "     |____No\n",
            "     |\n",
            "    Normal\n",
            "     |____Yes\n",
            "|\n",
            "Overcast\n",
            "|____Yes\n",
            "|\n",
            "Rain\n",
            "|____Wind[ Inf. Gain: 0.9709505944546686 ]\n",
            "     |\n",
            "    Weak\n",
            "     |____Yes\n",
            "     |\n",
            "    Strong\n",
            "     |____No\n",
            "\n"
          ]
        }
      ]
    }
  ]
}