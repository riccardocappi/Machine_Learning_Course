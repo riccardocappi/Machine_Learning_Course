{
  "nbformat": 4,
  "nbformat_minor": 0,
  "metadata": {
    "colab": {
      "provenance": [],
      "authorship_tag": "ABX9TyMhg/0+te3bLXqP/q7Guf2x",
      "include_colab_link": true
    },
    "kernelspec": {
      "name": "python3",
      "display_name": "Python 3"
    },
    "language_info": {
      "name": "python"
    }
  },
  "cells": [
    {
      "cell_type": "markdown",
      "metadata": {
        "id": "view-in-github",
        "colab_type": "text"
      },
      "source": [
        "<a href=\"https://colab.research.google.com/github/riccardocappi/Machine_Learning_Course/blob/main/Perceptron.ipynb\" target=\"_parent\"><img src=\"https://colab.research.google.com/assets/colab-badge.svg\" alt=\"Open In Colab\"/></a>"
      ]
    },
    {
      "cell_type": "markdown",
      "source": [
        "**Riccardo Cappi, 2073768**"
      ],
      "metadata": {
        "id": "4C7n5kB7s4Qm"
      }
    },
    {
      "cell_type": "code",
      "execution_count": null,
      "metadata": {
        "id": "EmhnHRfhkXFL"
      },
      "outputs": [],
      "source": [
        "import numpy as np\n",
        "from itertools import product\n",
        "from random import randrange\n",
        "from random import choice"
      ]
    },
    {
      "cell_type": "markdown",
      "source": [
        "###Perceptron Class###"
      ],
      "metadata": {
        "id": "XoKrFxhiC7w2"
      }
    },
    {
      "cell_type": "code",
      "source": [
        "class Perceptron:\n",
        "  def __init__(self,data,t,lr,steps):\n",
        "    self.lr = lr\n",
        "    self.data = data\n",
        "    self.steps = steps\n",
        "    self.S = list(zip(data,t))\n",
        "\n",
        "  def compute(self,x,w,b):\n",
        "    net = np.dot(x,w) + b\n",
        "    o = 0 if net < 0 else 1\n",
        "    return o\n",
        "\n",
        "\n",
        "  def learn(self):\n",
        "    w = np.random.rand(self.data.shape[1]+1)\n",
        "    for _ in range(self.steps):\n",
        "      x,t = choice(self.S)\n",
        "      x = np.asarray([1] + list(x))\n",
        "      o = self.compute(x[1:],w[1:], w[0])\n",
        "      if not o == t:\n",
        "        #Learning\n",
        "        w += self.lr*(t-o)*x\n",
        "    return w[0], w[1:]"
      ],
      "metadata": {
        "id": "hhMSlCVw3uWb"
      },
      "execution_count": null,
      "outputs": []
    },
    {
      "cell_type": "code",
      "source": [
        "def test(formula, steps, lr):\n",
        "  data = list(product((0,1),repeat=3))\n",
        "  data = np.array(data)\n",
        "  t = [formula(*s) for s in data]\n",
        "\n",
        "  p = Perceptron(data,t,lr, steps)\n",
        "  bias,weights = p.learn()\n",
        "  print('Learning concluded\\n')\n",
        "  print('Expected output: ')\n",
        "  for d in data:\n",
        "    print(d, '->', formula(*d))\n",
        "\n",
        "  print('\\nbias: ',bias)\n",
        "  print('weights: ', weights)\n",
        "  print('\\nPredicted output: ')\n",
        "  for d in data:\n",
        "    res = p.compute(d,weights,bias)\n",
        "    print(d,'->',res)"
      ],
      "metadata": {
        "id": "yCbFyERFOAjK"
      },
      "execution_count": null,
      "outputs": []
    },
    {
      "cell_type": "markdown",
      "source": [
        "###Test on 'AND' formula###"
      ],
      "metadata": {
        "id": "3oB80m-XNrw0"
      }
    },
    {
      "cell_type": "code",
      "source": [
        "AND = lambda x1,x2,x3: int(x1 and x2 and x3)\n",
        "\n",
        "#Test 'AND' formula\n",
        "test(AND,500,0.1)\n"
      ],
      "metadata": {
        "colab": {
          "base_uri": "https://localhost:8080/"
        },
        "id": "6j9JacSz1C-L",
        "outputId": "cf550bfa-faca-4247-f801-1fd817a8d9e6"
      },
      "execution_count": null,
      "outputs": [
        {
          "output_type": "stream",
          "name": "stdout",
          "text": [
            "Learning concluded\n",
            "\n",
            "Expected output: \n",
            "[0 0 0] -> 0\n",
            "[0 0 1] -> 0\n",
            "[0 1 0] -> 0\n",
            "[0 1 1] -> 0\n",
            "[1 0 0] -> 0\n",
            "[1 0 1] -> 0\n",
            "[1 1 0] -> 0\n",
            "[1 1 1] -> 1\n",
            "\n",
            "bias:  -0.782102468496333\n",
            "weights:  [0.21209347 0.18242865 0.46320426]\n",
            "\n",
            "Predicted output: \n",
            "[0 0 0] -> 0\n",
            "[0 0 1] -> 0\n",
            "[0 1 0] -> 0\n",
            "[0 1 1] -> 0\n",
            "[1 0 0] -> 0\n",
            "[1 0 1] -> 0\n",
            "[1 1 0] -> 0\n",
            "[1 1 1] -> 1\n"
          ]
        }
      ]
    },
    {
      "cell_type": "markdown",
      "source": [
        "###Test on 'OR' formula###\n"
      ],
      "metadata": {
        "id": "rP65fGKjNvxL"
      }
    },
    {
      "cell_type": "code",
      "source": [
        "OR = lambda x1,x2,x3: int(x1 or x2 or x3)\n",
        "test(OR,500,0.1)"
      ],
      "metadata": {
        "colab": {
          "base_uri": "https://localhost:8080/"
        },
        "id": "Nr2Ge55iN3XN",
        "outputId": "8579804b-b2bd-4379-c525-46547bb40fc9"
      },
      "execution_count": null,
      "outputs": [
        {
          "output_type": "stream",
          "name": "stdout",
          "text": [
            "Learning concluded\n",
            "\n",
            "Expected output: \n",
            "[0 0 0] -> 0\n",
            "[0 0 1] -> 1\n",
            "[0 1 0] -> 1\n",
            "[0 1 1] -> 1\n",
            "[1 0 0] -> 1\n",
            "[1 0 1] -> 1\n",
            "[1 1 0] -> 1\n",
            "[1 1 1] -> 1\n",
            "\n",
            "bias:  -0.03385875653626755\n",
            "weights:  [0.63676154 0.74545363 0.2396836 ]\n",
            "\n",
            "Predicted output: \n",
            "[0 0 0] -> 0\n",
            "[0 0 1] -> 1\n",
            "[0 1 0] -> 1\n",
            "[0 1 1] -> 1\n",
            "[1 0 0] -> 1\n",
            "[1 0 1] -> 1\n",
            "[1 1 0] -> 1\n",
            "[1 1 1] -> 1\n"
          ]
        }
      ]
    },
    {
      "cell_type": "markdown",
      "source": [
        "###Test on 'XOR' formula###\n",
        "Even with a very high number of learning steps, the algorithm isn't able to predict the 'XOR' formula\n"
      ],
      "metadata": {
        "id": "QEKdX5HhOdgt"
      }
    },
    {
      "cell_type": "code",
      "source": [
        "def XOR(x1,x2,x3):\n",
        "  a = (x1 and (not x2)) or ((not x1) and x2)\n",
        "  return int((a and (not x3)) or ((not a) and x3))\n",
        "test(XOR,5000,0.1)"
      ],
      "metadata": {
        "colab": {
          "base_uri": "https://localhost:8080/"
        },
        "id": "gjXQSTxAOg77",
        "outputId": "f24ff9b9-c9a1-46c2-ef67-34d17a03c8f4"
      },
      "execution_count": null,
      "outputs": [
        {
          "output_type": "stream",
          "name": "stdout",
          "text": [
            "Learning concluded\n",
            "\n",
            "Expected output: \n",
            "[0 0 0] -> 0\n",
            "[0 0 1] -> 1\n",
            "[0 1 0] -> 1\n",
            "[0 1 1] -> 0\n",
            "[1 0 0] -> 1\n",
            "[1 0 1] -> 0\n",
            "[1 1 0] -> 0\n",
            "[1 1 1] -> 1\n",
            "\n",
            "bias:  0.003940397023797976\n",
            "weights:  [-0.04978802  0.07561698  0.02045778]\n",
            "\n",
            "Predicted output: \n",
            "[0 0 0] -> 1\n",
            "[0 0 1] -> 1\n",
            "[0 1 0] -> 1\n",
            "[0 1 1] -> 1\n",
            "[1 0 0] -> 0\n",
            "[1 0 1] -> 0\n",
            "[1 1 0] -> 1\n",
            "[1 1 1] -> 1\n"
          ]
        }
      ]
    },
    {
      "cell_type": "markdown",
      "source": [
        "###Changing learning rate and number of steps###\n",
        "In the following cell i'll show how the behavior of the Perceptron changes with different values of learning rate and number of steps\n",
        "\n",
        "Let's consider the 'AND' formula"
      ],
      "metadata": {
        "id": "W1UVltBx3gT9"
      }
    },
    {
      "cell_type": "code",
      "source": [
        "AND = lambda x1,x2,x3: int(x1 and x2 and x3)\n",
        "values = [ (100, 0.01), (500,0.01), (300, 0.1), (300, 0.001) ]\n",
        "for v in values:\n",
        "  print('Test with number of steps = ',v[0],'and learning rate = ', v[1])\n",
        "  test(AND,*v)\n",
        "  print('---------------------------------------------------------------')"
      ],
      "metadata": {
        "colab": {
          "base_uri": "https://localhost:8080/"
        },
        "id": "lio01tCK4uE_",
        "outputId": "668b6d52-2879-4984-cf49-04ff038af477"
      },
      "execution_count": null,
      "outputs": [
        {
          "output_type": "stream",
          "name": "stdout",
          "text": [
            "Test with number of steps =  100 and learning rate =  0.01\n",
            "Learning concluded\n",
            "\n",
            "Expected output: \n",
            "[0 0 0] -> 0\n",
            "[0 0 1] -> 0\n",
            "[0 1 0] -> 0\n",
            "[0 1 1] -> 0\n",
            "[1 0 0] -> 0\n",
            "[1 0 1] -> 0\n",
            "[1 1 0] -> 0\n",
            "[1 1 1] -> 1\n",
            "\n",
            "bias:  -0.31999318842660623\n",
            "weights:  [ 0.45157813  0.0415308  -0.00917164]\n",
            "\n",
            "Predicted output: \n",
            "[0 0 0] -> 0\n",
            "[0 0 1] -> 0\n",
            "[0 1 0] -> 0\n",
            "[0 1 1] -> 0\n",
            "[1 0 0] -> 1\n",
            "[1 0 1] -> 1\n",
            "[1 1 0] -> 1\n",
            "[1 1 1] -> 1\n",
            "---------------------------------------------------------------\n",
            "Test with number of steps =  500 and learning rate =  0.01\n",
            "Learning concluded\n",
            "\n",
            "Expected output: \n",
            "[0 0 0] -> 0\n",
            "[0 0 1] -> 0\n",
            "[0 1 0] -> 0\n",
            "[0 1 1] -> 0\n",
            "[1 0 0] -> 0\n",
            "[1 0 1] -> 0\n",
            "[1 1 0] -> 0\n",
            "[1 1 1] -> 1\n",
            "\n",
            "bias:  -0.46435639121950195\n",
            "weights:  [0.02180461 0.34514369 0.09790242]\n",
            "\n",
            "Predicted output: \n",
            "[0 0 0] -> 0\n",
            "[0 0 1] -> 0\n",
            "[0 1 0] -> 0\n",
            "[0 1 1] -> 0\n",
            "[1 0 0] -> 0\n",
            "[1 0 1] -> 0\n",
            "[1 1 0] -> 0\n",
            "[1 1 1] -> 1\n",
            "---------------------------------------------------------------\n",
            "Test with number of steps =  300 and learning rate =  0.1\n",
            "Learning concluded\n",
            "\n",
            "Expected output: \n",
            "[0 0 0] -> 0\n",
            "[0 0 1] -> 0\n",
            "[0 1 0] -> 0\n",
            "[0 1 1] -> 0\n",
            "[1 0 0] -> 0\n",
            "[1 0 1] -> 0\n",
            "[1 1 0] -> 0\n",
            "[1 1 1] -> 1\n",
            "\n",
            "bias:  -0.4576829326095966\n",
            "weights:  [0.24124517 0.20562554 0.05828749]\n",
            "\n",
            "Predicted output: \n",
            "[0 0 0] -> 0\n",
            "[0 0 1] -> 0\n",
            "[0 1 0] -> 0\n",
            "[0 1 1] -> 0\n",
            "[1 0 0] -> 0\n",
            "[1 0 1] -> 0\n",
            "[1 1 0] -> 0\n",
            "[1 1 1] -> 1\n",
            "---------------------------------------------------------------\n",
            "Test with number of steps =  300 and learning rate =  0.001\n",
            "Learning concluded\n",
            "\n",
            "Expected output: \n",
            "[0 0 0] -> 0\n",
            "[0 0 1] -> 0\n",
            "[0 1 0] -> 0\n",
            "[0 1 1] -> 0\n",
            "[1 0 0] -> 0\n",
            "[1 0 1] -> 0\n",
            "[1 1 0] -> 0\n",
            "[1 1 1] -> 1\n",
            "\n",
            "bias:  0.6632022453615238\n",
            "weights:  [0.78384021 0.31524397 0.07416876]\n",
            "\n",
            "Predicted output: \n",
            "[0 0 0] -> 1\n",
            "[0 0 1] -> 1\n",
            "[0 1 0] -> 1\n",
            "[0 1 1] -> 1\n",
            "[1 0 0] -> 1\n",
            "[1 0 1] -> 1\n",
            "[1 1 0] -> 1\n",
            "[1 1 1] -> 1\n",
            "---------------------------------------------------------------\n"
          ]
        }
      ]
    },
    {
      "cell_type": "markdown",
      "source": [
        "As you can see, with a small learning rate (i.e 0.01) you have to increase the number of learning steps in order to get a correct prediction.\n",
        "\n",
        "On the other hand, even with an high number of learning steps (i.e 300), a learning rate too small (i.e 0.001) can cause a misprediction"
      ],
      "metadata": {
        "id": "1uuE5YS-_Hpy"
      }
    }
  ]
}