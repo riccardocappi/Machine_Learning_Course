{
  "nbformat": 4,
  "nbformat_minor": 0,
  "metadata": {
    "colab": {
      "provenance": [],
      "collapsed_sections": [],
      "authorship_tag": "ABX9TyOykj+G69rQ+m/Ns9b/U6y4",
      "include_colab_link": true
    },
    "kernelspec": {
      "name": "python3",
      "display_name": "Python 3"
    },
    "language_info": {
      "name": "python"
    }
  },
  "cells": [
    {
      "cell_type": "markdown",
      "metadata": {
        "id": "view-in-github",
        "colab_type": "text"
      },
      "source": [
        "<a href=\"https://colab.research.google.com/github/riccardocappi/Machine_Learning_Course/blob/main/Delta_Rule.ipynb\" target=\"_parent\"><img src=\"https://colab.research.google.com/assets/colab-badge.svg\" alt=\"Open In Colab\"/></a>"
      ]
    },
    {
      "cell_type": "markdown",
      "source": [
        "###Perceptron - Delta Rule###\n",
        "**Riccardo Cappi, 2073768**"
      ],
      "metadata": {
        "id": "cWKZOlseD3JC"
      }
    },
    {
      "cell_type": "code",
      "execution_count": null,
      "metadata": {
        "id": "gi2LVjmVkyJl"
      },
      "outputs": [],
      "source": [
        "import numpy as np\n",
        "import math\n",
        "from itertools import product\n",
        "import matplotlib.pyplot as plt\n",
        "from sklearn import datasets"
      ]
    },
    {
      "cell_type": "markdown",
      "source": [
        "###Perceptron Class###"
      ],
      "metadata": {
        "id": "VgMmw9vPE1Ev"
      }
    },
    {
      "cell_type": "code",
      "source": [
        "def sigmoid(x):\n",
        "  return 1 / (1 + math.exp(-x))\n",
        "\n",
        "class Perceptron:\n",
        "  def __init__(self,data,t,lr,steps):\n",
        "    self.lr = lr\n",
        "    self.data = data\n",
        "    self.steps = steps\n",
        "    self.S = list(zip(data,t))\n",
        "    self.w = []\n",
        "\n",
        "  def gradient_computation(self):\n",
        "    self.w = np.random.uniform(low = -0.05, high = 0.05 , size=self.data.shape[1]+1)\n",
        "    for _ in range(self.steps):\n",
        "      delta_w = np.zeros(self.data.shape[1]+1)\n",
        "      for x,t in self.S:\n",
        "        # Add x0 = 1 for bias\n",
        "        x = np.asarray([1] + list(x))\n",
        "        o = self.predict(x[1:])\n",
        "        # Update delta_w considering the sigmoid derivative\n",
        "        delta_w = delta_w + self.lr * (t-o)*o*(1.0-o)*x\n",
        "      self.w = self.w + delta_w\n",
        "    return self.w[0], self.w[1:]\n",
        "\n",
        "  def predict(self, x):\n",
        "    y = np.dot(self.w[1:],x) + self.w[0]  # compute w ⋅ x + b\n",
        "    return sigmoid(y)\n",
        "\n"
      ],
      "metadata": {
        "id": "fr_ErptjmOYu"
      },
      "execution_count": null,
      "outputs": []
    },
    {
      "cell_type": "markdown",
      "source": [
        "###Test on linearly separable dataset###"
      ],
      "metadata": {
        "id": "SJwiGaJUFFIQ"
      }
    },
    {
      "cell_type": "code",
      "source": [
        "X, y = datasets.make_blobs(n_samples=100, centers=2, n_features=2, center_box=(0, 10))\n",
        "plt.plot(X[:, 0][y == 0], X[:, 1][y == 0], 'g^')\n",
        "plt.plot(X[:, 0][y == 1], X[:, 1][y == 1], 'bs')\n",
        "plt.show()"
      ],
      "metadata": {
        "colab": {
          "base_uri": "https://localhost:8080/",
          "height": 265
        },
        "id": "bYAESiPTHnOx",
        "outputId": "e8529682-6c83-4e7a-e8e9-3af4ec64efc4"
      },
      "execution_count": null,
      "outputs": [
        {
          "output_type": "display_data",
          "data": {
            "text/plain": [
              "<Figure size 432x288 with 1 Axes>"
            ],
            "image/png": "[encoded data removed]"
          },
          "metadata": {
            "needs_background": "light"
          }
        }
      ]
    },
    {
      "cell_type": "code",
      "source": [
        "model = Perceptron(X,y,0.01,3000)\n",
        "bias,weights = model.gradient_computation()\n",
        "print('\\nbias: ',bias)\n",
        "print('weights: ', weights)\n",
        "slope = -weights[0] / weights[1]\n",
        "intercept = -bias / weights[1]\n",
        "\n",
        "x0 = np.min(X[:,0])\n",
        "x1 = np.max(X[:,0])\n",
        "hyperplane = np.array([x0,x1])*slope + intercept\n",
        "plt.plot(X[:, 0][y == 0], X[:, 1][y == 0], 'g^')\n",
        "plt.plot(X[:, 0][y == 1], X[:, 1][y == 1], 'bs')\n",
        "plt.plot([x0,x1],hyperplane,'r')\n",
        "plt.show()\n"
      ],
      "metadata": {
        "colab": {
          "base_uri": "https://localhost:8080/",
          "height": 317
        },
        "id": "3plme1bqI-cA",
        "outputId": "8727c638-e6c3-4547-f9fb-1fa31d6139c7"
      },
      "execution_count": null,
      "outputs": [
        {
          "output_type": "stream",
          "name": "stdout",
          "text": [
            "\n",
            "bias:  6.056905875769676\n",
            "weights:  [-0.73470218 -0.8563561 ]\n"
          ]
        },
        {
          "output_type": "display_data",
          "data": {
            "text/plain": [
              "<Figure size 432x288 with 1 Axes>"
            ],
            "image/png": "[encoded data removed]"
          },
          "metadata": {
            "needs_background": "light"
          }
        }
      ]
    }
  ]
}